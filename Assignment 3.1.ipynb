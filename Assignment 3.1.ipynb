{
    "nbformat_minor": 1, 
    "cells": [
        {
            "source": "# Assignment 3\n\nWelcome to Assignment 3. This will be even more fun. Now we will calculate statistical measures on the test data you have created.\n\nYOU ARE NOT ALLOWED TO USE ANY OTHER 3RD PARTY LIBRARIES LIKE PANDAS. PLEASE ONLY MODIFY CONTENT INSIDE THE FUNCTION SKELETONS\nPlease read why: https://www.coursera.org/learn/exploring-visualizing-iot-data/discussions/weeks/3/threads/skjCbNgeEeapeQ5W6suLkA\n. Just make sure you hit the play button on each cell from top to down. There are seven functions you have to implement. Please also make sure than on each change on a function you hit the play button again on the corresponding cell to make it available to the rest of this notebook.\nPlease also make sure to only implement the function bodies and DON'T add any additional code outside functions since this might confuse the autograder.\n\nSo the function below is used to make it easy for you to create a data frame from a cloudant data frame using the so called \"DataSource\" which is some sort of a plugin which allows ApacheSpark to use different data sources.\n", 
            "cell_type": "markdown", 
            "metadata": {}
        }, 
        {
            "source": "All functions can be implemented using DataFrames, ApacheSparkSQL or RDDs. We are only interested in the result. You are given the reference to the data frame in the \"df\" parameter and in case you want to use SQL just use the \"spark\" parameter which is a reference to the global SparkSession object. Finally if you want to use RDDs just use \"df.rdd\" for obtaining a reference to the underlying RDD object. \n\nLet's start with the first function. Please calculate the minimal temperature for the test data set you have created. We've provided a little skeleton for you in case you want to use SQL. You can use this skeleton for all subsequent functions. Everything can be implemented using SQL only if you like.", 
            "cell_type": "markdown", 
            "metadata": {}
        }, 
        {
            "source": "def readDataFrameFromCloudant(database):\n    cloudantdata=spark.read.load(database, \"org.apache.bahir.cloudant\")\n\n    cloudantdata.createOrReplaceTempView(\"washing\")\n    spark.sql(\"SELECT * from washing\").show()\n    return cloudantdata", 
            "cell_type": "code", 
            "metadata": {}, 
            "outputs": [], 
            "execution_count": 72
        }, 
        {
            "source": "def minTemperature(df,spark):\n    minRow=df.agg({\"temperature\": \"min\"}).collect()[0]\n    mintemp = minRow[\"min(temperature)\"]\n\n    return mintemp", 
            "cell_type": "code", 
            "metadata": {}, 
            "outputs": [], 
            "execution_count": 73
        }, 
        {
            "source": "Please now do the same for the mean of the temperature", 
            "cell_type": "markdown", 
            "metadata": {}
        }, 
        {
            "source": "def meanTemperature(df,spark):\n    avgRow=df.agg({\"temperature\": \"avg\"}).collect()[0]\n    avgtemp = avgRow[\"avg(temperature)\"]\n#    print avgtemp\n    return avgtemp\n", 
            "cell_type": "code", 
            "metadata": {}, 
            "outputs": [], 
            "execution_count": 74
        }, 
        {
            "source": "Please now do the same for the maximum of the temperature", 
            "cell_type": "markdown", 
            "metadata": {}
        }, 
        {
            "source": "def maxTemperature(df,spark):\n    maxRow=df.agg({\"temperature\": \"max\"}).collect()[0]\n    maxtemp = maxRow[\"max(temperature)\"]\n#    print maxtemp\n    return maxtemp", 
            "cell_type": "code", 
            "metadata": {}, 
            "outputs": [], 
            "execution_count": 75
        }, 
        {
            "source": "Please now do the same for the standard deviation of the temperature", 
            "cell_type": "markdown", 
            "metadata": {}
        }, 
        {
            "source": "def sdTemperature(df,spark):\n    temprddrow = df.select('temperature').rdd #in row(temp=x) format\n    temprdd = temprddrow.map(lambda x : x[\"temperature\"]) #only numbers\n    temp = temprdd.filter(lambda x: x is not None).filter(lambda x: x != \"\") #remove None params\n    n = float(temp.count())\n    sum=temp.sum()\n    mean =sum/n\n    from math import sqrt\n    sd=sqrt(temp.map(lambda x : pow(x-mean,2)).sum()/n)\n#    print sd\n    return sd##INSERT YOUR CODE HERE##", 
            "cell_type": "code", 
            "metadata": {}, 
            "outputs": [], 
            "execution_count": 76
        }, 
        {
            "source": "Please now do the same for the skew of the temperature. Since the SQL statement for this is a bit more complicated we've provided a skeleton for you. You have to insert custom code at four position in order to make the function work. Alternatively you can also remove everything and implement if on your own. Note that we are making use of two previously defined functions, so please make sure they are correct. Also note that we are making use of python's string formatting capabilitis where the results of the two function calls to \"meanTemperature\" and \"sdTemperature\" are inserted at the \"%s\" symbols in the SQL string.", 
            "cell_type": "markdown", 
            "metadata": {}
        }, 
        {
            "source": "def skewTemperature(df,spark):    \n    temprddrow = df.select('temperature').rdd #in row(temp=x) format\n    temprdd = temprddrow.map(lambda x : x[\"temperature\"]) #only numbers\n    temp = temprdd.filter(lambda x: x is not None).filter(lambda x: x != \"\")  #remove None params\n    n = float(temp.count())\n    sum=temp.sum()\n    mean =sum/n\n    from math import sqrt\n    sd=sqrt(temp.map(lambda x : pow(x-mean,2)).sum()/n)\n    skew=n*(temp.map(lambda x:pow(x-mean,3)/pow(sd,3)).sum())/(float(n-1)*float(n-2))\n#    print skew\n    return skew ", 
            "cell_type": "code", 
            "metadata": {}, 
            "outputs": [], 
            "execution_count": 77
        }, 
        {
            "source": "Kurtosis is the 4th statistical moment, so if you are smart you can make use of the code for skew which is the 3rd statistical moment. Actually only two things are different.", 
            "cell_type": "markdown", 
            "metadata": {}
        }, 
        {
            "source": "def kurtosisTemperature(df,spark): \n    temprddrow = df.select('temperature').rdd\n    temprdd = temprddrow.map(lambda x : x[\"temperature\"])\n    temp = temprdd.filter(lambda x: x is not None).filter(lambda x: x != \"\")\n    n = float(temp.count())\n    sum=temp.sum()\n    mean =sum/n\n    from math import sqrt\n    sd=sqrt(temp.map(lambda x : pow(x-mean,2)).sum()/n)\n    kurtosis=temp.map(lambda x:pow(x-mean,4)).sum()/(pow(sd,4)*(n))\n#    print kurtosis\n    return kurtosis", 
            "cell_type": "code", 
            "metadata": {}, 
            "outputs": [], 
            "execution_count": 78
        }, 
        {
            "source": "Just a hint. This can be solved easily using SQL as well, but as shown in the lecture also using RDDs.", 
            "cell_type": "markdown", 
            "metadata": {}
        }, 
        {
            "source": "def correlationTemperatureHardness(df,spark):\n    temprddrow = df.select('temperature').rdd\n    temprdd = temprddrow.map(lambda x : x[\"temperature\"])\n    temp = temprdd.filter(lambda x: x is not None).filter(lambda x: x != \"\")\n    hardrddrow = df.select('hardness').rdd\n    hardrdd = hardrddrow.map(lambda x : x[\"hardness\"])\n    hard = hardrdd.filter(lambda x: x is not None).filter(lambda x: x != \"\")\n    n = float(temp.count())\n    sumt=temp.sum()\n    sumh=hard.sum()\n    meant =sumt/n\n    meanh = sumh/n\n    rdd12 = temp.zip(hard)\n    cov12 = rdd12.map(lambda x,y : (x-meant)*(y-meanh)).sum()/n\n    from math import sqrt\n    sd1 = sqrt(temp.map(lambda x : pow(x-meant,2)).sum()/n)\n    sd2 = sqrt(hard.map(lambda x : pow(x-meanh,2)).sum()/n)\n    corr12 = cov12 / (sd1 * sd2)\n    #corr12\n    return corr12\n\n", 
            "cell_type": "code", 
            "metadata": {}, 
            "outputs": [], 
            "execution_count": 79
        }, 
        {
            "source": "### PLEASE DON'T REMOVE THIS BLOCK - THE FOLLOWING CODE IS NOT GRADED\n#axx\n### PLEASE DON'T REMOVE THIS BLOCK - THE FOLLOWING CODE IS NOT GRADED", 
            "cell_type": "markdown", 
            "metadata": {}
        }, 
        {
            "source": "Now it is time to grab a PARQUET file and create a dataframe out of it. Using SparkSQL you can handle it like a database. ", 
            "cell_type": "markdown", 
            "metadata": {}
        }, 
        {
            "source": "!wget https://github.com/IBM/coursera/blob/master/coursera_ds/washing.parquet?raw=true\n!mv washing.parquet?raw=true washing.parquet", 
            "cell_type": "code", 
            "metadata": {}, 
            "outputs": [
                {
                    "output_type": "stream", 
                    "name": "stdout", 
                    "text": "--2019-05-01 19:56:19--  https://github.com/IBM/coursera/blob/master/coursera_ds/washing.parquet?raw=true\nResolving github.com (github.com)... 192.30.253.112, 192.30.253.113\nConnecting to github.com (github.com)|192.30.253.112|:443... connected.\nHTTP request sent, awaiting response... 302 Found\nLocation: https://github.com/IBM/coursera/raw/master/coursera_ds/washing.parquet [following]\n--2019-05-01 19:56:19--  https://github.com/IBM/coursera/raw/master/coursera_ds/washing.parquet\nReusing existing connection to github.com:443.\nHTTP request sent, awaiting response... 302 Found\nLocation: https://raw.githubusercontent.com/IBM/coursera/master/coursera_ds/washing.parquet [following]\n--2019-05-01 19:56:19--  https://raw.githubusercontent.com/IBM/coursera/master/coursera_ds/washing.parquet\nResolving raw.githubusercontent.com (raw.githubusercontent.com)... 151.101.48.133\nConnecting to raw.githubusercontent.com (raw.githubusercontent.com)|151.101.48.133|:443... connected.\nHTTP request sent, awaiting response... 200 OK\nLength: 112048 (109K) [application/octet-stream]\nSaving to: 'washing.parquet?raw=true'\n\nwashing.parquet?raw 100%[===================>] 109.42K  --.-KB/s    in 0.004s  \n\n2019-05-01 19:56:19 (26.4 MB/s) - 'washing.parquet?raw=true' saved [112048/112048]\n\n"
                }
            ], 
            "execution_count": 80
        }, 
        {
            "source": "df = spark.read.parquet('washing.parquet')\ndf.createOrReplaceTempView('washing')\ndf.show()", 
            "cell_type": "code", 
            "metadata": {}, 
            "outputs": [
                {
                    "output_type": "stream", 
                    "name": "stdout", 
                    "text": "+--------------------+--------------------+-----+--------+----------+---------+--------+-----+-----------+-------------+-------+\n|                 _id|                _rev|count|flowrate|fluidlevel|frequency|hardness|speed|temperature|           ts|voltage|\n+--------------------+--------------------+-----+--------+----------+---------+--------+-----+-----------+-------------+-------+\n|0d86485d0f88d1f9d...|1-57940679fb8a713...|    4|      11|acceptable|     null|      77| null|        100|1547808723923|   null|\n|0d86485d0f88d1f9d...|1-15ff3a0b304d789...|    2|    null|      null|     null|    null| 1046|       null|1547808729917|   null|\n|0d86485d0f88d1f9d...|1-97c2742b68c7b07...|    4|    null|      null|       71|    null| null|       null|1547808731918|    236|\n|0d86485d0f88d1f9d...|1-eefb903dbe45746...|   19|      11|acceptable|     null|      75| null|         86|1547808738999|   null|\n|0d86485d0f88d1f9d...|1-5f68b4c72813c25...|    7|    null|      null|       75|    null| null|       null|1547808740927|    235|\n|0d86485d0f88d1f9d...|1-cd4b6c57ddbe77e...|    5|    null|      null|     null|    null| 1014|       null|1547808744923|   null|\n|0d86485d0f88d1f9d...|1-a35b25b5bf43aaf...|   32|      11|acceptable|     null|      73| null|         84|1547808752028|   null|\n|0d86485d0f88d1f9d...|1-b717f7289a8476d...|   48|      11|acceptable|     null|      79| null|         84|1547808768065|   null|\n|0d86485d0f88d1f9d...|1-c2f1f8fcf178b2f...|   18|    null|      null|       73|    null| null|       null|1547808773944|    228|\n|0d86485d0f88d1f9d...|1-15033dd9eebb4a8...|   59|      11|acceptable|     null|      72| null|         96|1547808779093|   null|\n|0d86485d0f88d1f9d...|1-753dae825f9a6c2...|   62|      11|acceptable|     null|      73| null|         88|1547808782113|   null|\n|0d86485d0f88d1f9d...|1-b168089f44f03f0...|   13|    null|      null|     null|    null| 1097|       null|1547808784940|   null|\n|0d86485d0f88d1f9d...|1-403b687c6be0dea...|   23|    null|      null|       80|    null| null|       null|1547808788955|    236|\n|0d86485d0f88d1f9d...|1-195551e0455a24b...|   72|      11|acceptable|     null|      77| null|         87|1547808792134|   null|\n|0d86485d0f88d1f9d...|1-060a39fc6c2ddee...|   26|    null|      null|       62|    null| null|       null|1547808797959|    233|\n|0d86485d0f88d1f9d...|1-2234514bffee465...|   27|    null|      null|       61|    null| null|       null|1547808800960|    226|\n|0d86485d0f88d1f9d...|1-4265898bb401db0...|   82|      11|acceptable|     null|      79| null|         96|1547808802154|   null|\n|0d86485d0f88d1f9d...|1-2fbf7ca9a0425a0...|   94|      11|acceptable|     null|      73| null|         90|1547808814186|   null|\n|0d86485d0f88d1f9d...|1-203c0ee6d7fbd21...|   97|      11|acceptable|     null|      77| null|         88|1547808817190|   null|\n|0d86485d0f88d1f9d...|1-47e1965db94fcab...|  104|      11|acceptable|     null|      75| null|         80|1547808824198|   null|\n+--------------------+--------------------+-----+--------+----------+---------+--------+-----+-----------+-------------+-------+\nonly showing top 20 rows\n\n"
                }
            ], 
            "execution_count": 81
        }, 
        {
            "source": "Now it is time to connect to the object store and read a PARQUET file and create a dataframe out of it. We've created that data for you already. Using SparkSQL you can handle it like a database.", 
            "cell_type": "markdown", 
            "metadata": {}
        }, 
        {
            "source": "import ibmos2spark\nfrom pyspark.mllib.stat import Statistics\nimport random\n# @hidden_cell\ncredentials = {\n    'endpoint': 'https://s3-api.us-geo.objectstorage.service.networklayer.com',\n    'api_key': 'PUJMZf9PLqN4y-6NUtVlEuq6zFoWhfuecFVMYLBrkxrT',\n    'service_id': 'iam-ServiceId-9cd8e66e-3bb4-495a-807a-588692cca4d0',\n    'iam_service_endpoint': 'https://iam.bluemix.net/oidc/token'}\n\nconfiguration_name = 'os_b0f1407510994fd1b793b85137baafb8_configs'\ncos = ibmos2spark.CloudObjectStorage(sc, credentials, configuration_name, 'bluemix_cos')\n\nfrom pyspark.sql import SparkSession\nspark = SparkSession.builder.getOrCreate()\n# Since JSON data can be semi-structured and contain additional metadata, it is possible that you might face issues with the DataFrame layout.\n# Please read the documentation of 'SparkSession.read()' to learn more about the possibilities to adjust the data loading.\n# PySpark documentation: http://spark.apache.org/docs/2.0.2/api/python/pyspark.sql.html#pyspark.sql.DataFrameReader.json\n\ndf = spark.read.parquet(cos.url('washing.parquet', 'courseradsnew-donotdelete-pr-1hffrnl2pprwut'))\ndf.createOrReplaceTempView('washing')\ndf.show()", 
            "cell_type": "code", 
            "metadata": {}, 
            "outputs": [
                {
                    "output_type": "stream", 
                    "name": "stdout", 
                    "text": "+--------------------+--------------------+-----+--------+----------+---------+--------+-----+-----------+-------------+-------+\n|                 _id|                _rev|count|flowrate|fluidlevel|frequency|hardness|speed|temperature|           ts|voltage|\n+--------------------+--------------------+-----+--------+----------+---------+--------+-----+-----------+-------------+-------+\n|0d86485d0f88d1f9d...|1-57940679fb8a713...|    4|      11|acceptable|     null|      77| null|        100|1547808723923|   null|\n|0d86485d0f88d1f9d...|1-15ff3a0b304d789...|    2|    null|      null|     null|    null| 1046|       null|1547808729917|   null|\n|0d86485d0f88d1f9d...|1-97c2742b68c7b07...|    4|    null|      null|       71|    null| null|       null|1547808731918|    236|\n|0d86485d0f88d1f9d...|1-eefb903dbe45746...|   19|      11|acceptable|     null|      75| null|         86|1547808738999|   null|\n|0d86485d0f88d1f9d...|1-5f68b4c72813c25...|    7|    null|      null|       75|    null| null|       null|1547808740927|    235|\n|0d86485d0f88d1f9d...|1-cd4b6c57ddbe77e...|    5|    null|      null|     null|    null| 1014|       null|1547808744923|   null|\n|0d86485d0f88d1f9d...|1-a35b25b5bf43aaf...|   32|      11|acceptable|     null|      73| null|         84|1547808752028|   null|\n|0d86485d0f88d1f9d...|1-b717f7289a8476d...|   48|      11|acceptable|     null|      79| null|         84|1547808768065|   null|\n|0d86485d0f88d1f9d...|1-c2f1f8fcf178b2f...|   18|    null|      null|       73|    null| null|       null|1547808773944|    228|\n|0d86485d0f88d1f9d...|1-15033dd9eebb4a8...|   59|      11|acceptable|     null|      72| null|         96|1547808779093|   null|\n|0d86485d0f88d1f9d...|1-753dae825f9a6c2...|   62|      11|acceptable|     null|      73| null|         88|1547808782113|   null|\n|0d86485d0f88d1f9d...|1-b168089f44f03f0...|   13|    null|      null|     null|    null| 1097|       null|1547808784940|   null|\n|0d86485d0f88d1f9d...|1-403b687c6be0dea...|   23|    null|      null|       80|    null| null|       null|1547808788955|    236|\n|0d86485d0f88d1f9d...|1-195551e0455a24b...|   72|      11|acceptable|     null|      77| null|         87|1547808792134|   null|\n|0d86485d0f88d1f9d...|1-060a39fc6c2ddee...|   26|    null|      null|       62|    null| null|       null|1547808797959|    233|\n|0d86485d0f88d1f9d...|1-2234514bffee465...|   27|    null|      null|       61|    null| null|       null|1547808800960|    226|\n|0d86485d0f88d1f9d...|1-4265898bb401db0...|   82|      11|acceptable|     null|      79| null|         96|1547808802154|   null|\n|0d86485d0f88d1f9d...|1-2fbf7ca9a0425a0...|   94|      11|acceptable|     null|      73| null|         90|1547808814186|   null|\n|0d86485d0f88d1f9d...|1-203c0ee6d7fbd21...|   97|      11|acceptable|     null|      77| null|         88|1547808817190|   null|\n|0d86485d0f88d1f9d...|1-47e1965db94fcab...|  104|      11|acceptable|     null|      75| null|         80|1547808824198|   null|\n+--------------------+--------------------+-----+--------+----------+---------+--------+-----+-----------+-------------+-------+\nonly showing top 20 rows\n\n"
                }
            ], 
            "execution_count": 82
        }, 
        {
            "source": "minTemperature(df,spark)", 
            "cell_type": "code", 
            "metadata": {}, 
            "outputs": [
                {
                    "output_type": "execute_result", 
                    "data": {
                        "text/plain": "80"
                    }, 
                    "execution_count": 83, 
                    "metadata": {}
                }
            ], 
            "execution_count": 83
        }, 
        {
            "source": "meanTemperature(df,spark)", 
            "cell_type": "code", 
            "metadata": {}, 
            "outputs": [
                {
                    "output_type": "execute_result", 
                    "data": {
                        "text/plain": "90.03800298062593"
                    }, 
                    "execution_count": 84, 
                    "metadata": {}
                }
            ], 
            "execution_count": 84
        }, 
        {
            "source": "maxTemperature(df,spark)", 
            "cell_type": "code", 
            "metadata": {}, 
            "outputs": [
                {
                    "output_type": "execute_result", 
                    "data": {
                        "text/plain": "100"
                    }, 
                    "execution_count": 85, 
                    "metadata": {}
                }
            ], 
            "execution_count": 85
        }, 
        {
            "source": "sdTemperature(df,spark)", 
            "cell_type": "code", 
            "metadata": {}, 
            "outputs": [
                {
                    "output_type": "execute_result", 
                    "data": {
                        "text/plain": "6.098487624200329"
                    }, 
                    "execution_count": 86, 
                    "metadata": {}
                }
            ], 
            "execution_count": 86
        }, 
        {
            "source": "skewTemperature(df,spark)", 
            "cell_type": "code", 
            "metadata": {}, 
            "outputs": [
                {
                    "output_type": "execute_result", 
                    "data": {
                        "text/plain": "0.010433319824286571"
                    }, 
                    "execution_count": 87, 
                    "metadata": {}
                }
            ], 
            "execution_count": 87
        }, 
        {
            "source": "kurtosisTemperature(df,spark)", 
            "cell_type": "code", 
            "metadata": {}, 
            "outputs": [
                {
                    "output_type": "execute_result", 
                    "data": {
                        "text/plain": "1.7760730694213247"
                    }, 
                    "execution_count": 88, 
                    "metadata": {}
                }
            ], 
            "execution_count": 88
        }, 
        {
            "source": "Congratulations, you are done, please download this notebook as python file using the export function and submit is to the gader using the filename \"assignment3.1.py\"", 
            "cell_type": "markdown", 
            "metadata": {}
        }, 
        {
            "source": "", 
            "cell_type": "code", 
            "metadata": {}, 
            "outputs": [], 
            "execution_count": null
        }
    ], 
    "metadata": {
        "kernelspec": {
            "display_name": "Python 3.5 with Spark", 
            "name": "python3", 
            "language": "python3"
        }, 
        "language_info": {
            "mimetype": "text/x-python", 
            "nbconvert_exporter": "python", 
            "version": "3.5.4", 
            "name": "python", 
            "file_extension": ".py", 
            "pygments_lexer": "ipython3", 
            "codemirror_mode": {
                "version": 3, 
                "name": "ipython"
            }
        }
    }, 
    "nbformat": 4
}